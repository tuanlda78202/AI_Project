{
 "cells": [
  {
   "cell_type": "code",
   "execution_count": 2,
   "metadata": {},
   "outputs": [],
   "source": [
    "from collections import defaultdict\n",
    "from queue import PriorityQueue\n",
    "\n",
    "class node():\n",
    "    def __init__(self,name = None,par = None, h= 0, g = 0, w = 0):\n",
    "        self.name = name\n",
    "        self.h = h\n",
    "        self.g = g\n",
    "        self.par = par\n",
    "        self.w = w\n",
    "    def __lt__(self,other):\n",
    "        if other == None:\n",
    "            return False\n",
    "        else:\n",
    "            return self.h+self.g < other.h + other.g     \n",
    "    def parent(self, distance, last_h):\n",
    "        print(self.name)\n",
    "        distance += self.w\n",
    "        if self.par != None:\n",
    "            return self.par.parent(distance, last_h)\n",
    "        else:\n",
    "            \n",
    "            print('distance: ',distance + last_h)\n",
    "            \n",
    "data = defaultdict(list)\n"
   ]
  },
  {
   "cell_type": "code",
   "execution_count": 3,
   "metadata": {},
   "outputs": [
    {
     "ename": "NameError",
     "evalue": "name 'data' is not defined",
     "output_type": "error",
     "traceback": [
      "\u001b[1;31m---------------------------------------------------------------------------\u001b[0m",
      "\u001b[1;31mNameError\u001b[0m                                 Traceback (most recent call last)",
      "\u001b[1;32m<ipython-input-3-187326880149>\u001b[0m in \u001b[0;36m<module>\u001b[1;34m\u001b[0m\n\u001b[0;32m     29\u001b[0m                         \u001b[0mopen\u001b[0m\u001b[1;33m.\u001b[0m\u001b[0mput\u001b[0m\u001b[1;33m(\u001b[0m\u001b[0mtmp\u001b[0m\u001b[1;33m)\u001b[0m\u001b[1;33m\u001b[0m\u001b[1;33m\u001b[0m\u001b[0m\n\u001b[0;32m     30\u001b[0m \u001b[1;33m\u001b[0m\u001b[0m\n\u001b[1;32m---> 31\u001b[1;33m \u001b[0mAStar\u001b[0m\u001b[1;33m(\u001b[0m\u001b[1;33m)\u001b[0m\u001b[1;33m\u001b[0m\u001b[1;33m\u001b[0m\u001b[0m\n\u001b[0m",
      "\u001b[1;32m<ipython-input-3-187326880149>\u001b[0m in \u001b[0;36mAStar\u001b[1;34m(S, G)\u001b[0m\n\u001b[0;32m      1\u001b[0m \u001b[1;32mdef\u001b[0m \u001b[0mAStar\u001b[0m\u001b[1;33m(\u001b[0m\u001b[0mS\u001b[0m \u001b[1;33m=\u001b[0m \u001b[0mnode\u001b[0m\u001b[1;33m(\u001b[0m\u001b[1;34m'A'\u001b[0m\u001b[1;33m)\u001b[0m\u001b[1;33m,\u001b[0m \u001b[0mG\u001b[0m \u001b[1;33m=\u001b[0m \u001b[0mnode\u001b[0m\u001b[1;33m(\u001b[0m\u001b[1;34m'N'\u001b[0m\u001b[1;33m)\u001b[0m\u001b[1;33m)\u001b[0m\u001b[1;33m:\u001b[0m\u001b[1;33m\u001b[0m\u001b[1;33m\u001b[0m\u001b[0m\n\u001b[0;32m      2\u001b[0m     \u001b[0mopen\u001b[0m \u001b[1;33m=\u001b[0m \u001b[0mPriorityQueue\u001b[0m\u001b[1;33m(\u001b[0m\u001b[1;33m)\u001b[0m\u001b[1;33m\u001b[0m\u001b[1;33m\u001b[0m\u001b[0m\n\u001b[1;32m----> 3\u001b[1;33m     \u001b[0mS\u001b[0m\u001b[1;33m.\u001b[0m\u001b[0mh\u001b[0m \u001b[1;33m=\u001b[0m \u001b[0mdata\u001b[0m\u001b[1;33m[\u001b[0m\u001b[0mS\u001b[0m\u001b[1;33m.\u001b[0m\u001b[0mname\u001b[0m\u001b[1;33m]\u001b[0m\u001b[1;33m[\u001b[0m\u001b[1;33m-\u001b[0m\u001b[1;36m1\u001b[0m\u001b[1;33m]\u001b[0m\u001b[1;33m\u001b[0m\u001b[1;33m\u001b[0m\u001b[0m\n\u001b[0m\u001b[0;32m      4\u001b[0m     \u001b[0mS\u001b[0m\u001b[1;33m.\u001b[0m\u001b[0mg\u001b[0m \u001b[1;33m=\u001b[0m \u001b[1;36m0\u001b[0m\u001b[1;33m\u001b[0m\u001b[1;33m\u001b[0m\u001b[0m\n\u001b[0;32m      5\u001b[0m     \u001b[0mopen\u001b[0m\u001b[1;33m.\u001b[0m\u001b[0mput\u001b[0m\u001b[1;33m(\u001b[0m\u001b[0mS\u001b[0m\u001b[1;33m)\u001b[0m\u001b[1;33m\u001b[0m\u001b[1;33m\u001b[0m\u001b[0m\n",
      "\u001b[1;31mNameError\u001b[0m: name 'data' is not defined"
     ]
    }
   ],
   "source": [
    "def AStar(S = node('A'), G = node('N')):\n",
    "    open = PriorityQueue()\n",
    "    S.h = data[S.name][-1]\n",
    "    S.g = 0\n",
    "    open.put(S)\n",
    "    \n",
    "    while True:\n",
    "        if open.empty():\n",
    "            print(\"can't solve\")\n",
    "            break\n",
    "        else:\n",
    "            O = open.get(0)\n",
    "            closed.put(O)\n",
    "            O.h = data[O.name][-1]\n",
    "            if O.name == G.name:\n",
    "                print('solve sucessfully')\n",
    "                last = data[G.name][-1]\n",
    "                print(O.parent(distance = 0, last_h = last))\n",
    "                break\n",
    "            else:\n",
    "                for i in range (0,len(data[O.name])-1,2):\n",
    "                    tmp = node(data[O.name][i])\n",
    "                    tmp.h = data[tmp.name][-1]\n",
    "                    tmp.g = O.g + data[O.name][i+1]\n",
    "                    tmp.w = data[O.name][i+1]\n",
    "                    tmp.par = O\n",
    "                    \n",
    "                    if tmp not in open.queue and tmp not in closed.queue:\n",
    "                        open.put(tmp)\n",
    "                        \n",
    "AStar()"
   ]
  }
 ],
 "metadata": {
  "kernelspec": {
   "display_name": "Python 3",
   "language": "python",
   "name": "python3"
  },
  "language_info": {
   "codemirror_mode": {
    "name": "ipython",
    "version": 3
   },
   "file_extension": ".py",
   "mimetype": "text/x-python",
   "name": "python",
   "nbconvert_exporter": "python",
   "pygments_lexer": "ipython3",
   "version": "3.8.5"
  }
 },
 "nbformat": 4,
 "nbformat_minor": 4
}

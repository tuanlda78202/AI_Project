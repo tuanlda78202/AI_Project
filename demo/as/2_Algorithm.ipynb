{
 "cells": [
  {
   "cell_type": "code",
   "execution_count": 1,
   "metadata": {},
   "outputs": [],
   "source": [
    "# Import the libraries \n",
    "from collections import defaultdict\n",
    "from queue import PriorityQueue"
   ]
  },
  {
   "cell_type": "code",
   "execution_count": 2,
   "metadata": {},
   "outputs": [],
   "source": [
    "# Initial node object\n",
    "class node():\n",
    "    def __init__(self,name = None,par = None, h= 0, g = 0, w = 0):\n",
    "        self.name = name\n",
    "        self.h = h     # h(x) of each node saved at the end of the list in the data set, distance from current node to goal node\n",
    "        self.g = g     # g(x): distance from start node to current node\n",
    "        self.par = par # parent of current node\n",
    "        self.w = w     # distance from current node to it's parent\n",
    "        \n",
    "    # \"less than\" function,this function is used to compare the node's f(x) function \n",
    "    # to add to the PriorityQueue in order of priority, the smaller f(x) will be added first\n",
    "    def __lt__(self,other): \n",
    "        if other == None:\n",
    "            return False\n",
    "        else:\n",
    "            return self.h + self.g < other.h + other.g     #in A* algorithm, f(x) = h(x) + g(x)\n",
    "        \n",
    "    # used to trace the path after finding the solution\n",
    "    def parent(self, distance, last_h): \n",
    "        print(self.name)\n",
    "        distance += self.w\n",
    "        if self.par != None: # other nodes except start warehouse\n",
    "            return self.par.parent(distance, last_h)\n",
    "        else: # this is the start warehouse, it doesn't have parent node \n",
    "            print('distance: ',distance + last_h)"
   ]
  },
  {
   "cell_type": "code",
   "execution_count": null,
   "metadata": {},
   "outputs": [],
   "source": [
    "# A_Star function\n",
    "'''\n",
    "PriorityQueue is a queue that add element in order of priority, that means in this algorithm, the smaller node ( smaller f(x)) will added first.\n",
    "E.g.: [3,6,9] are the f(x) function of 3 nodes, if we add 2 nodes with f(x) are 4 and 8, the PriorityQueue will become [3,4,6,8,9]\n",
    "Step 1: initial open, closed are PriorityQueue\n",
    "    + open queue contains unexpanded nodes\n",
    "    + closed queue contains expanded nodes\n",
    "Step 2: expand nodes in open queue, if child node not in open queue and not in closed queue => add to open queue and expand later (in this program, we call expanding node is O)\n",
    "Step 3: if we find out goal node, break the program and print solution\n",
    "    + if not, return to step 2\n",
    "    + if open queue is empty and we haven't found goal node ==> error, can't find solution \n",
    "'''\n",
    "def AStar(S = node(begin), G = node(end)):\n",
    "    # initial open queue and closed queue\n",
    "    open = PriorityQueue()\n",
    "    closed = PriorityQueue()\n",
    "    # add start node to open queue to start expand\n",
    "    S.h = data[S.name][-1]\n",
    "    S.g = 0\n",
    "    open.put(S)\n",
    "    \n",
    "    while True:\n",
    "        if open.empty():\n",
    "            print(\"can't solve\")\n",
    "            break\n",
    "        else:\n",
    "            O = open.get(0)    # take out each element in the open queue and expand\n",
    "            closed.put(O)      # put expanded nodes to closed, so that these nodes are not expanded again\n",
    "            O.h = data[O.name][-1]\n",
    "            print('duyet',O.name, O.h, O.g)\n",
    "            if O.name == G.name:   # finding the solution\n",
    "                print('solve successfully')\n",
    "                last = data[G.name][-1]\n",
    "                print(O.parent(distance = 0,last_h = last))   # print path after solving\n",
    "                break\n",
    "            else:\n",
    "                for i in range (0,len(data[O.name])-1,2):  # browse all elements of node O\n",
    "                    tmp = node(data[O.name][i])\n",
    "                    tmp.h = data[tmp.name][-1]             \n",
    "                    tmp.g = O.g + data[O.name][i+1]        \n",
    "                    tmp.w = data[O.name][i+1]              \n",
    "                    tmp.par = O\n",
    "                    \n",
    "                    if tmp not in open.queue and tmp not in closed.queue:\n",
    "                        open.put(tmp)\n",
    "                        "
   ]
  }
 ],
 "metadata": {
  "kernelspec": {
   "display_name": "Python 3",
   "language": "python",
   "name": "python3"
  },
  "language_info": {
   "codemirror_mode": {
    "name": "ipython",
    "version": 3
   },
   "file_extension": ".py",
   "mimetype": "text/x-python",
   "name": "python",
   "nbconvert_exporter": "python",
   "pygments_lexer": "ipython3",
   "version": "3.8.8"
  }
 },
 "nbformat": 4,
 "nbformat_minor": 4
}

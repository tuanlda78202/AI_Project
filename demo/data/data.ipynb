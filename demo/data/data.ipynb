{
 "cells": [
  {
   "cell_type": "code",
   "execution_count": 4,
   "id": "87e02782",
   "metadata": {},
   "outputs": [
    {
     "data": {
      "text/plain": [
       "63"
      ]
     },
     "execution_count": 4,
     "metadata": {},
     "output_type": "execute_result"
    }
   ],
   "source": [
    "data_neighbour={'Lai Chau':['Dien Bien','Lao Cai','Son La','Yen Bai'],\\\n",
    "                'Yen Bai':['Lao Cai','Lai Chau','Son La','Hà Giang','Phu Tho','Tuyen Quang'],\\\n",
    "                'Dien Bien':['Lai Chau','Son La'],\\\n",
    "                'Thanh Hoa':['Son La','Nghe An','Ninh Binh','Hoa Binh'],\n",
    "                'Nghe An':['Ha Tinh','Thanh Hoa'],\\\n",
    "                'Quang Binh':['Ha Tinh','Quang Tri'] ,\\\n",
    "                'Ha Tinh':['Nghe An','Quang Binh'],\\\n",
    "                'Quang Tri':['Quang Binh','Hue'],\\\n",
    "                'Hue':['Quang Tri','Da Nang','Quang Nam'],\\\n",
    "               'Da Nang':['Hue','Quang Nam'],\\\n",
    "                'Quang Nam':['Da Nang','Hue','Kon Tum','Quang Ngai'],\\\n",
    "                'Kon Tum':['Quang Nam','Quang Ngai','Gia Lai'],\\\n",
    "                'Quang Ngai':['Kon Tum','Quang Nam','Binh Dinh'],\\\n",
    "                'Gia Lai':['Kon Tum','Binh Dinh','Phu Yen','Dak Lak'],\\\n",
    "                'Binh Dinh':['Quang Ngai','Gia Lai','Phu Yen'],\\\n",
    "                'Dak Lak':['Dak Nong','Lam Dong','Khanh Hoa','Phu Yen','Gia Lai'],\\\n",
    "                'Phu Yen':['Gia Lai','Binh Dinh','Dak Lak','Khanh Hoa'],\\\n",
    "                'Khanh Hoa':['Dak Lak','Phu Yen','Lam Dong','Ninh Thuan'],\\\n",
    "                'Dak Nong':['Dak Lak','Lam Dong','Binh Phuoc'],\\\n",
    "                'Lam Dong':['Dak Lak','Dak Nong','Binh Phuoc','Dong Nai','Binh Thuan','Ninh Thuan','Khanh Hoa'],\\\n",
    "                'Ninh Thuan':['Lam Dong','Khanh Hoa','Binh Thuan'],\\\n",
    "                'Binh Phuoc':['Tay Ninh','Binh Duong','Dong Nai','Dak Nong','Lam Dong'],\\\n",
    "                'Dong Nai':['Lam Dong','Binh Phuoc','Binh Thuan','Ho Chi Minh','Vung Tau','Binh Duong'],\\\n",
    "                'Binh Thuan':['Vung Tau','Lam Dong','Ninh Thuan','Dong Nai'],\\\n",
    "                'Tay Ninh':['Long An', 'Ho Chi Minh', 'Binh Duong','Binh Phuoc'],\\\n",
    "                'Binh Duong':['Tay Ninh','Ho Chi Minh','Dong Nai','Binh Phuoc'],\\\n",
    "                'Ho Chi Minh':['Tay Ninh','Binh Duong','Dong Nai','Long An','Vung Tau'],\\\n",
    "                'Vung Tau':['Ho Chi Minh','Dong Nai','Binh Thuan'],\\\n",
    "                'Long An':['Tay Ninh','Ho Chi Minh','Dong Thap','Tien Giang'],\\\n",
    "                'Dong Thap':['Long An','Tien Giang','Vinh Long','Can Tho','An Giang'],\\\n",
    "                'Tien Giang':['Long An','Dong Thap','Vinh Long','Ben Tre'],\\\n",
    "                'Ben Tre':['Vinh Long','Tien Giang','Tra Vinh'],\\\n",
    "                'An Giang':['Kien Giang','Can Tho','Dong Thap'],\\\n",
    "                'Can Tho':['Kien Giang','An Giang','Dong Thap','Vinh Long','Hau Giang'],\\\n",
    "                'Vinh Long':['Can Tho','Dong Thap','Ben Tre','Tra Vinh','Hau Giang'],\\\n",
    "                'Tra Vinh':['Ben Tre','Vinh Long','Soc Trang'],\\\n",
    "                'Soc Trang':['Hau Giang','Bac Lieu','Tra Vinh'],\\\n",
    "                'Hau Giang':[ 'Kien Giang','Bac Lieu','Soc Trang','Can Tho','Vinh Long'],\\\n",
    "                'Kien Giang':['An Giang','Can Tho','Hau Giang','Bac Lieu','Ca Mau'],\\\n",
    "                'Bac Lieu':['Kien Giang','Hau Giang','Soc Trang','Ca Mau'],\\\n",
    "                'Ca Mau':['Kien Giang','Bac Lieu'],\\\n",
    "                'Ha Noi':['Phu Tho','Hoa Binh','Bac Giang','Vinh Phuc','Bac Ninh','Hung Yen','Ha Nam'],\\\n",
    "                'Phu Tho':['Son La','Yen Bai','Hoa Binh','Ha Noi','Vinh Phuc','Tuyen Quang'],\\\n",
    "                'Hoa Binh':['Ninh Binh','Thanh Hoa','Ha Nam','Ha Noi','Phu Tho','Son La'],\\\n",
    "                'Bac Giang':['Quang Ninh','Hai Duong','Bac Ninh','Ha Noi','Thai Nguyen','Lang Son'],\\\n",
    "                'Vinh Phuc':['Phu Tho', 'Ha Noi','Thai Nguyen','Tuyen Quang'],\\\n",
    "                'Bac Ninh':['Ha Noi','Hung Yen','Hai Duong', 'Bac Giang'],\\\n",
    "                'Hung Yen':['Ha Noi','Bac Ninh','Hai Duong','Thai Binh','Ha Nam'],\\\n",
    "                'Ha Nam':['Ha Noi','Hung Yen','Thai Binh','Nam Dinh','Ninh Binh','Hoa Binh'],\\\n",
    "                'Hai Phong':['Thai Binh','Thai Binh','Quang Ninh'],\\\n",
    "                'Hai Duong':['Bac Ninh', 'Hung Yen','Thai Binh','Hai Phong','Quang Ninh','Bac Giang'],\\\n",
    "                'Nam Dinh':['Ninh Binh','Ha Nam','Thai Binh'],\\\n",
    "                'Thai Nguyen':['Tuyen Quang', 'Bac Kan','Lang Son','Bac Giang','Ha Noi','Vinh Phuc'],\\\n",
    "                'Thai Binh':['Nam Dinh', 'Ha Nam','Hung Yen','Hai Duong','Hai Duong','Hai Phong'],\\\n",
    "                'Quang Ninh':['Hai Duong','Hai Phong','Bac Giang','Lang Son'],\\\n",
    "                'Lang Son':['Quang Ninh','Bac Giang','Thai Nguyen','Bac Kan','Cao Bang'],\\\n",
    "                'Ninh Binh':['Hoa Binh','Thanh Hoa','Nam Dinh','Ha Nam'],\\\n",
    "                'Lao Cai':['Lai Chau','Yen Bai','Hà Giang'],\\\n",
    "                'Cao Bang':['Hà Giang','Bac Kan','Lang Son'],\\\n",
    "                'Hà Giang':['Cao Bang','Tuyen Quang','Yen Bai','Lao Cai'],\\\n",
    "                'Tuyen Quang':['Hà Giang','Bac Kan','Thai Nguyen','Vinh Phuc','Phu Tho','Yen Bai'],\\\n",
    "                'Bac Kan':['Tuyen Quang','Thai Nguyen','Lang Son','Cao Bang'],\\\n",
    "                'Son La':['Dien Bien','Yen Bai','Phu Tho','Hoa Binh','Thanh Hoa'],\\\n",
    "               }\n",
    "\n",
    "len(data_neighbour.keys())"
   ]
  },
  {
   "cell_type": "code",
   "execution_count": null,
   "id": "ef2c5912",
   "metadata": {},
   "outputs": [],
   "source": []
  }
 ],
 "metadata": {
  "kernelspec": {
   "display_name": "Python 3",
   "language": "python",
   "name": "python3"
  },
  "language_info": {
   "codemirror_mode": {
    "name": "ipython",
    "version": 3
   },
   "file_extension": ".py",
   "mimetype": "text/x-python",
   "name": "python",
   "nbconvert_exporter": "python",
   "pygments_lexer": "ipython3",
   "version": "3.8.8"
  }
 },
 "nbformat": 4,
 "nbformat_minor": 5
}

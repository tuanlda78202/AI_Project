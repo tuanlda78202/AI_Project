{
 "cells": [
  {
   "cell_type": "code",
   "execution_count": 1,
   "id": "55cb017a",
   "metadata": {},
   "outputs": [],
   "source": [
    "import pandas as pd\n",
    "import matplotlib.pyplot as plt\n",
    "import seaborn as sns\n",
    "import numpy as np\n",
    "import random\n",
    "import time"
   ]
  },
  {
   "cell_type": "markdown",
   "id": "7745b788",
   "metadata": {},
   "source": [
    "# 1.Read data from excel file"
   ]
  },
  {
   "cell_type": "code",
   "execution_count": 3,
   "id": "024b4213",
   "metadata": {},
   "outputs": [],
   "source": [
    "df=pd.read_excel('Data_Excel.xlsx')\n",
    "Longitude, Latitude, Province = df[\"Longitude\"],df[\"Latitude\"],df[\"Province\"]"
   ]
  },
  {
   "cell_type": "markdown",
   "id": "52987a52",
   "metadata": {},
   "source": [
    "# 2. Convert matrix into list : distance provices"
   ]
  },
  {
   "cell_type": "code",
   "execution_count": 4,
   "id": "12ffe70d",
   "metadata": {},
   "outputs": [
    {
     "name": "stdout",
     "output_type": "stream",
     "text": [
      "{'Ho Chi Minh': 0, 'Ha Noi': 1, 'Hai Phong': 2, 'Can Tho': 3, 'Dong Nai': 4, 'Quang Nam': 5, 'Bac Ninh': 6, 'Hai Duong': 7, 'Nghe An': 8, 'Hue': 9, 'Thanh Hoa': 10, 'Khanh Hoa': 11, 'Nam Dinh': 12, 'Dak Lak': 13, 'Thai Nguyen': 14, 'Vung Tau': 15, 'Ca Mau': 16, 'Binh Dinh': 17, 'Soc Trang': 18, 'An Giang': 19, 'Phu Tho': 20, 'Thai Binh': 21, 'Quang Ngai': 22, 'Lam Dong': 23, 'Binh Duong': 24, 'Phu Yen': 25, 'Bac Lieu': 26, 'Dong Thap': 27, 'Binh Thuan': 28, 'Ninh Thuan': 29, 'Quang Ninh': 30, 'Ha Tinh': 31, 'Quang Binh': 32, 'Lang Son': 33, 'Gia Lai': 34, 'Long An': 35, 'Tra Vinh': 36, 'Ninh Binh': 37, 'Tay Ninh': 38, 'Tien Giang': 39, 'Hoa Binh': 40, 'Kon Tum': 41, 'Vinh Long': 42, 'Hau Giang': 43, 'Yen Bai': 44, 'Quang Tri': 45, 'Lao Cai': 46, 'Ben Tre': 47, 'Bac Giang': 48, 'Cao Bang': 49, 'Binh Phuoc': 50, 'Hà Giang': 51, 'Tuyen Quang': 52, 'Bac Kan': 53, 'Son La': 54, 'Ha Nam': 55, 'Hung Yen': 56, 'Kien Giang': 57, 'Lai Chau': 58, 'Da Nang': 59, 'Dak Nong': 60, 'Dien Bien': 61, 'Vinh Phuc': 62}\n"
     ]
    },
    {
     "data": {
      "text/plain": [
       "1260.217143922348"
      ]
     },
     "execution_count": 4,
     "metadata": {},
     "output_type": "execute_result"
    }
   ],
   "source": [
    "# we convert matrix distance into list distance\n",
    "list_distance=[]\n",
    "for i in df.values:\n",
    "    list_distance.append(list(i[1:-2]))\n",
    "# we convert province into index in list distance\n",
    "dict_index_province={}\n",
    "for i in range(len(Province)):\n",
    "    dict_index_province[Province[i].strip()]=i\n",
    "print(dict_index_province)\n",
    "# example of how to get the distance between 2 provinces\n",
    "list_distance[dict_index_province['Vinh Phuc']][dict_index_province['Can Tho']]# distance Vinh Phuc to Can Tho"
   ]
  },
  {
   "cell_type": "markdown",
   "id": "56384b88",
   "metadata": {},
   "source": [
    "# 3.Data about neighbour of the neighbor of the province"
   ]
  },
  {
   "cell_type": "code",
   "execution_count": 6,
   "id": "f48d702d",
   "metadata": {},
   "outputs": [
    {
     "data": {
      "text/plain": [
       "63"
      ]
     },
     "execution_count": 6,
     "metadata": {},
     "output_type": "execute_result"
    }
   ],
   "source": [
    "data_neighbour={'Lai Chau':['Dien Bien','Lao Cai','Son La','Yen Bai'],\\\n",
    "                'Yen Bai':['Lao Cai','Lai Chau','Son La','Hà Giang','Phu Tho','Tuyen Quang'],\\\n",
    "                'Dien Bien':['Lai Chau','Son La'],\\\n",
    "                'Thanh Hoa':['Son La','Nghe An','Ninh Binh','Hoa Binh'],\n",
    "                'Nghe An':['Ha Tinh','Thanh Hoa'],\\\n",
    "                'Quang Binh':['Ha Tinh','Quang Tri'] ,\\\n",
    "                'Ha Tinh':['Nghe An','Quang Binh'],\\\n",
    "                'Quang Tri':['Quang Binh','Hue'],\\\n",
    "                'Hue':['Quang Tri','Da Nang','Quang Nam'],\\\n",
    "               'Da Nang':['Hue','Quang Nam'],\\\n",
    "                'Quang Nam':['Da Nang','Hue','Kon Tum','Quang Ngai'],\\\n",
    "                'Kon Tum':['Quang Nam','Quang Ngai','Gia Lai'],\\\n",
    "                'Quang Ngai':['Kon Tum','Quang Nam','Binh Dinh'],\\\n",
    "                'Gia Lai':['Kon Tum','Binh Dinh','Phu Yen','Dak Lak'],\\\n",
    "                'Binh Dinh':['Quang Ngai','Gia Lai','Phu Yen'],\\\n",
    "                'Dak Lak':['Dak Nong','Lam Dong','Khanh Hoa','Phu Yen','Gia Lai'],\\\n",
    "                'Phu Yen':['Gia Lai','Binh Dinh','Dak Lak','Khanh Hoa'],\\\n",
    "                'Khanh Hoa':['Dak Lak','Phu Yen','Lam Dong','Ninh Thuan'],\\\n",
    "                'Dak Nong':['Dak Lak','Lam Dong','Binh Phuoc'],\\\n",
    "                'Lam Dong':['Dak Lak','Dak Nong','Binh Phuoc','Dong Nai','Binh Thuan','Ninh Thuan','Khanh Hoa'],\\\n",
    "                'Ninh Thuan':['Lam Dong','Khanh Hoa','Binh Thuan'],\\\n",
    "                'Binh Phuoc':['Tay Ninh','Binh Duong','Dong Nai','Dak Nong','Lam Dong'],\\\n",
    "                'Dong Nai':['Lam Dong','Binh Phuoc','Binh Thuan','Ho Chi Minh','Vung Tau','Binh Duong'],\\\n",
    "                'Binh Thuan':['Vung Tau','Lam Dong','Ninh Thuan','Dong Nai'],\\\n",
    "                'Tay Ninh':['Long An', 'Ho Chi Minh', 'Binh Duong','Binh Phuoc'],\\\n",
    "                'Binh Duong':['Tay Ninh','Ho Chi Minh','Dong Nai','Binh Phuoc'],\\\n",
    "                'Ho Chi Minh':['Tay Ninh','Binh Duong','Dong Nai','Long An','Vung Tau'],\\\n",
    "                'Vung Tau':['Ho Chi Minh','Dong Nai','Binh Thuan'],\\\n",
    "                'Long An':['Tay Ninh','Ho Chi Minh','Dong Thap','Tien Giang'],\\\n",
    "                'Dong Thap':['Long An','Tien Giang','Vinh Long','Can Tho','An Giang'],\\\n",
    "                'Tien Giang':['Long An','Dong Thap','Vinh Long','Ben Tre'],\\\n",
    "                'Ben Tre':['Vinh Long','Tien Giang','Tra Vinh'],\\\n",
    "                'An Giang':['Kien Giang','Can Tho','Dong Thap'],\\\n",
    "                'Can Tho':['Kien Giang','An Giang','Dong Thap','Vinh Long','Hau Giang'],\\\n",
    "                'Vinh Long':['Can Tho','Dong Thap','Ben Tre','Tra Vinh','Hau Giang'],\\\n",
    "                'Tra Vinh':['Ben Tre','Vinh Long','Soc Trang'],\\\n",
    "                'Soc Trang':['Hau Giang','Bac Lieu','Tra Vinh'],\\\n",
    "                'Hau Giang':[ 'Kien Giang','Bac Lieu','Soc Trang','Can Tho','Vinh Long'],\\\n",
    "                'Kien Giang':['An Giang','Can Tho','Hau Giang','Bac Lieu','Ca Mau'],\\\n",
    "                'Bac Lieu':['Kien Giang','Hau Giang','Soc Trang','Ca Mau'],\\\n",
    "                'Ca Mau':['Kien Giang','Bac Lieu'],\\\n",
    "                'Ha Noi':['Phu Tho','Hoa Binh','Bac Giang','Vinh Phuc','Bac Ninh','Hung Yen','Ha Nam'],\\\n",
    "                'Phu Tho':['Son La','Yen Bai','Hoa Binh','Ha Noi','Vinh Phuc','Tuyen Quang'],\\\n",
    "                'Hoa Binh':['Ninh Binh','Thanh Hoa','Ha Nam','Ha Noi','Phu Tho','Son La'],\\\n",
    "                'Bac Giang':['Quang Ninh','Hai Duong','Bac Ninh','Ha Noi','Thai Nguyen','Lang Son'],\\\n",
    "                'Vinh Phuc':['Phu Tho', 'Ha Noi','Thai Nguyen','Tuyen Quang'],\\\n",
    "                'Bac Ninh':['Ha Noi','Hung Yen','Hai Duong', 'Bac Giang'],\\\n",
    "                'Hung Yen':['Ha Noi','Bac Ninh','Hai Duong','Thai Binh','Ha Nam'],\\\n",
    "                'Ha Nam':['Ha Noi','Hung Yen','Thai Binh','Nam Dinh','Ninh Binh','Hoa Binh'],\\\n",
    "                'Hai Phong':['Thai Binh','Thai Binh','Quang Ninh'],\\\n",
    "                'Hai Duong':['Bac Ninh', 'Hung Yen','Thai Binh','Hai Phong','Quang Ninh','Bac Giang'],\\\n",
    "                'Nam Dinh':['Ninh Binh','Ha Nam','Thai Binh'],\\\n",
    "                'Thai Nguyen':['Tuyen Quang', 'Bac Kan','Lang Son','Bac Giang','Ha Noi','Vinh Phuc'],\\\n",
    "                'Thai Binh':['Nam Dinh', 'Ha Nam','Hung Yen','Hai Duong','Hai Duong','Hai Phong'],\\\n",
    "                'Quang Ninh':['Hai Duong','Hai Phong','Bac Giang','Lang Son'],\\\n",
    "                'Lang Son':['Quang Ninh','Bac Giang','Thai Nguyen','Bac Kan','Cao Bang'],\\\n",
    "                'Ninh Binh':['Hoa Binh','Thanh Hoa','Nam Dinh','Ha Nam'],\\\n",
    "                'Lao Cai':['Lai Chau','Yen Bai','Hà Giang'],\\\n",
    "                'Cao Bang':['Hà Giang','Bac Kan','Lang Son'],\\\n",
    "                'Hà Giang':['Cao Bang','Tuyen Quang','Yen Bai','Lao Cai'],\\\n",
    "                'Tuyen Quang':['Hà Giang','Bac Kan','Thai Nguyen','Vinh Phuc','Phu Tho','Yen Bai'],\\\n",
    "                'Bac Kan':['Tuyen Quang','Thai Nguyen','Lang Son','Cao Bang'],\\\n",
    "                'Son La':['Dien Bien','Yen Bai','Phu Tho','Hoa Binh','Thanh Hoa'],\\\n",
    "               }\n",
    "len(data_neighbour.keys())"
   ]
  },
  {
   "cell_type": "markdown",
   "id": "cc18f414",
   "metadata": {},
   "source": [
    "# 4. Create 3 main warehouse"
   ]
  },
  {
   "cell_type": "code",
   "execution_count": 8,
   "id": "3e4e2a04",
   "metadata": {},
   "outputs": [
    {
     "name": "stdout",
     "output_type": "stream",
     "text": [
      "['Ha Noi', 'Ha Tinh', 'Binh Duong']\n"
     ]
    }
   ],
   "source": [
    "def create_main_warehouse():\n",
    "    df=pd.read_excel('Data_Excel.xlsx')\n",
    "    Latitude=list(df['Latitude'])\n",
    "    Longitude=list(df['Longitude'])\n",
    "    province=df['Province']\n",
    "    position_main_warehouse1=[]\n",
    "    position_main_warehouse2=[]\n",
    "    position_main_warehouse3=[]\n",
    "    for i in range(len(Latitude)):\n",
    "        if Latitude[i] >20 :\n",
    "            position_main_warehouse1.append(i)\n",
    "        elif Latitude[i] >12:\n",
    "            position_main_warehouse2.append(i)\n",
    "        else:\n",
    "            position_main_warehouse3.append(i)\n",
    "    main_warehouse1=province[random.choice(position_main_warehouse1)].strip()\n",
    "    main_warehouse2=province[random.choice(position_main_warehouse2)].strip()\n",
    "    main_warehouse3=province[random.choice(position_main_warehouse3)].strip()\n",
    "    list_main_warehouse=[main_warehouse1,main_warehouse2,main_warehouse3]\n",
    "    return list_main_warehouse\n",
    "print(create_main_warehouse())"
   ]
  },
  {
   "cell_type": "markdown",
   "id": "73b90686",
   "metadata": {},
   "source": [
    "# 5. IDA_star"
   ]
  },
  {
   "cell_type": "code",
   "execution_count": 9,
   "id": "1b4273b4",
   "metadata": {},
   "outputs": [
    {
     "name": "stdout",
     "output_type": "stream",
     "text": [
      "(1396.8677301548948, ['Ha Noi', 'Hoa Binh', 'Thanh Hoa', 'Nghe An', 'Ha Tinh', 'Quang Binh', 'Quang Tri', 'Hue', 'Quang Nam', 'Kon Tum', 'Gia Lai', 'Dak Lak', 'Lam Dong', 'Dong Nai', 'Ho Chi Minh'])\n"
     ]
    }
   ],
   "source": [
    "def IDA_star():\n",
    "    global list_node_previous\n",
    "    #define a threshold: theta =f(root_node) with f(n)=h(n)+g(n)\n",
    "    threshold=list_distance[dict_index_province[start]][dict_index_province[goal]] \n",
    "    while True: # run infinity\n",
    "        temp=search(start,0,threshold,parent='Null') #function search(node,g score,threshold)\n",
    "        if temp=='FOUND': #if goal found\n",
    "            return threshold\n",
    "        threshold=temp  \n",
    "def search(node,g,threshold,parent):  #recursive function\n",
    "    f=g+list_distance[dict_index_province[node]][dict_index_province[goal]]\n",
    "    if (f>threshold):#greater f encountered\n",
    "        return f\n",
    "    if (f<=threshold):\n",
    "        list_node_previous[node]=parent\n",
    "    if node==goal:   #Goal node found\n",
    "        return 'FOUND'\n",
    "    minn=10**10 #minn= Minimum integer\n",
    "    for tempnode in nextnodes(node):\n",
    "        #recursive call with next node as current node for depth search\n",
    "        temp=search(tempnode,g+list_distance[dict_index_province[node]][dict_index_province[tempnode]],threshold,node)\n",
    "        if temp=='FOUND':# if goal found\n",
    "            return 'FOUND'\n",
    "        if (temp<minn):# find the minimum of all f greater than threshold encountered  \n",
    "            minn=temp\n",
    "    return minn #//return the minimum f encountered greater than threshold\n",
    "def nextnodes(node):\n",
    "    return data_neighbour[node] #return list of all possible next nodes from node\n",
    "def main_IDA_star():\n",
    "    '''For easy handling, we divide it into 3 regions: \n",
    "the domain with longitude > 20,the domain with longitude from 12-20 and the region with longitude < 12\n",
    "We discussed and found that such domain division reduces the running time and space complexity of the algorithm.\n",
    "The two provinces that help us to effectively handle division are Thanh Hoa and Lam Dong.\n",
    "'''\n",
    "    global list_node_previous,start,goal\n",
    "    list_node_previous={} # dictionary has key= expanded node, values= its parent node\n",
    "    index_start=dict_index_province[start] # position of start in Province\n",
    "    index_goal=dict_index_province[goal]   # position of goal in Province\n",
    "    Lat_start=Latitude[index_start]        #Latitude of start\n",
    "    Lat_goal=Latitude[index_goal]          # Longtitude of goal\n",
    "    list_solution=[]   \n",
    "    if (Lat_start>12) and (Lat_goal>12):\n",
    "        if (Lat_start<18) and (Lat_goal>20):#solve with latitude of start from 12 to 18 and latitude of goal > 20\n",
    "            t=goal\n",
    "            goal='Thanh Hoa'\n",
    "            cost_path=IDA_star()                   \n",
    "            check=goal\n",
    "            list_solution.append(check)\n",
    "            while check!=start:\n",
    "                check=list_node_previous[check]\n",
    "                list_solution.append(check)\n",
    "            list_solution=list_solution[::-1] # save solution when we solved\n",
    "            list_node_previous={}\n",
    "            start='Thanh Hoa'\n",
    "            goal=t\n",
    "            cost_path+=IDA_star()\n",
    "            check=goal\n",
    "            list_solution1=[]\n",
    "            list_solution1.append(check)\n",
    "            while check!=start:\n",
    "                check=list_node_previous[check]\n",
    "                list_solution1.append(check)\n",
    "            list_solution=list_solution[:-1]+list_solution1[::-1]\n",
    "            list_node_previous={}\n",
    "        else:\n",
    "            cost_path=IDA_star()\n",
    "            check=goal\n",
    "            list_solution.append(check)\n",
    "            while check!=start:\n",
    "                check=list_node_previous[check]\n",
    "                list_solution.append(check)\n",
    "            list_solution=list_solution[::-1]\n",
    "            list_node_previous={}\n",
    "    if (Lat_start<12) and (Lat_goal<12):\n",
    "        cost_path=IDA_star()\n",
    "        check=goal\n",
    "        list_solution.append(check)\n",
    "        while check!=start:\n",
    "            check=list_node_previous[check]\n",
    "            list_solution.append(check)\n",
    "        list_solution=list_solution[::-1]\n",
    "        list_node_previous={}\n",
    "    if (Lat_start>12) and (Lat_goal<12):\n",
    "        t=goal\n",
    "        goal='Lam Dong'\n",
    "        cost_path=IDA_star()\n",
    "        check=goal\n",
    "        list_solution.append(check)\n",
    "        while check!=start:\n",
    "            check=list_node_previous[check]\n",
    "            list_solution.append(check)\n",
    "        list_solution=list_solution[::-1]\n",
    "        list_node_previous={}\n",
    "        start='Lam Dong'\n",
    "        goal=t\n",
    "        cost_path+=IDA_star()\n",
    "        check=goal\n",
    "        list_solution1=[]\n",
    "        list_solution1.append(check)\n",
    "        while check!=start:\n",
    "            check=list_node_previous[check]\n",
    "            list_solution1.append(check)\n",
    "        list_solution=list_solution[:-1]+list_solution1[::-1]\n",
    "        list_node_previous={}\n",
    "    if (Lat_start<12) and (Lat_goal>12):\n",
    "        t=goal\n",
    "        goal='Lam Dong'\n",
    "        cost_path=IDA_star()\n",
    "        check=goal\n",
    "        list_solution.append(check)\n",
    "        while check!=start:\n",
    "            check=list_node_previous[check]\n",
    "            list_solution.append(check)\n",
    "        list_solution=list_solution[::-1]\n",
    "        list_node_previous={}\n",
    "        if Lat_goal>20:\n",
    "            start='Lam Dong'\n",
    "            goal='Thanh Hoa'\n",
    "            cost_path+=IDA_star()\n",
    "            check=goal\n",
    "            list_solution1=[]\n",
    "            list_solution1.append(check)\n",
    "            while check!=start:\n",
    "                check=list_node_previous[check]\n",
    "                list_solution1.append(check)\n",
    "            list_solution=list_solution[:-1]+list_solution1[::-1]\n",
    "            list_node_previous={}\n",
    "            start='Thanh Hoa'\n",
    "            goal=t\n",
    "            cost_path+=IDA_star()\n",
    "            check=goal\n",
    "            list_solution1=[]\n",
    "            list_solution1.append(check)\n",
    "            while check!=start:\n",
    "                check=list_node_previous[check]\n",
    "                list_solution1.append(check)\n",
    "            list_solution=list_solution[:-1]+list_solution1[::-1]\n",
    "            list_node_previous={}\n",
    "        else:    \n",
    "            start='Lam Dong'\n",
    "            goal=t\n",
    "            cost_path+=IDA_star()\n",
    "            check=goal\n",
    "            list_solution1=[]\n",
    "            list_solution1.append(check)\n",
    "            while check!=start:\n",
    "                check=list_node_previous[check]\n",
    "                list_solution1.append(check)\n",
    "            list_solution=list_solution[:-1]+list_solution1[::-1]\n",
    "            list_node_previous={}\n",
    "    return cost_path,list_solution # return cost distance and list_solution is the provinces it traverses from start to goal\n",
    "'''Such domain division will help us to solve problems. \n",
    "The process function below will pass the input parameter to the problem'''\n",
    "def process(start_province,goal_province):\n",
    "    global start,goal\n",
    "    start=start_province\n",
    "    goal=goal_province\n",
    "    distance_path,solution_path_list=main_IDA_star()\n",
    "    return distance_path,solution_path_list\n",
    "print(process('Ha Noi','Ho Chi Minh'))"
   ]
  },
  {
   "cell_type": "markdown",
   "id": "a187822e",
   "metadata": {},
   "source": [
    "# 6. Solve problem"
   ]
  },
  {
   "cell_type": "code",
   "execution_count": 11,
   "id": "01406cd3",
   "metadata": {},
   "outputs": [
    {
     "name": "stdout",
     "output_type": "stream",
     "text": [
      "Three of  main warehouse are  ['Bac Ninh', 'Ha Tinh', 'Tay Ninh']\n",
      "star province :Hà Giang\n",
      "end province : Ninh Binh\n",
      "cost optimal solution for problem is  179.97431087675562\n",
      "path optimal solution for problem is   Hà Giang -> Tuyen Quang -> Phu Tho -> Ha Noi -> Ha Nam -> Ninh Binh\n"
     ]
    }
   ],
   "source": [
    "def main():\n",
    "    list_main_warehouse=create_main_warehouse()\n",
    "    print('Three of  main warehouse are ', list_main_warehouse)\n",
    "    cost_truck = 35.000 \n",
    "    cost_plane = 160.000 \n",
    "    v_truck = 60 \n",
    "    v_plane = 800 \n",
    "    start_province=input('star province :')\n",
    "    goal_province=input('end province : ')\n",
    "    list_cost=[]\n",
    "    #Case 1: from start to finish without taking any plane\n",
    "    distance_path,solution_path_list=process(start_province,goal_province)\n",
    "    list_cost.append([distance_path/v_truck*cost_truck,solution_path_list])\n",
    "    #Case 2:From start to finish go through exactly 2 main warehouses\n",
    "    ## + create 2 main warehouse:\n",
    "    list_number=[]\n",
    "    for i in range(3):\n",
    "        for j in range(3):\n",
    "            if i!=j:\n",
    "                list_number.append([i,j])\n",
    "    for i in list_number:\n",
    "        cost=0\n",
    "        #start -> main warehouse 1\n",
    "        list_solution_2_main_warehouse=[]\n",
    "        distance_path,solution_path_list=process(start_province,list_main_warehouse[i[0]])\n",
    "        cost=cost+distance_path/v_truck*cost_truck\n",
    "        list_solution_2_main_warehouse+=solution_path_list\n",
    "        # main warehouse1 - main warehouse 2\n",
    "        a=list_main_warehouse[i[0]]\n",
    "        b=list_main_warehouse[i[1]]\n",
    "        cost+=list_distance[dict_index_province[a]][dict_index_province[b]]/v_plane*cost_plane\n",
    "        # main warehouse 2 -> goal\n",
    "        distance_path,solution_path_list=process(list_main_warehouse[i[1]],goal_province)\n",
    "        cost=cost+distance_path/v_truck*cost_truck\n",
    "        list_solution_2_main_warehouse+=solution_path_list\n",
    "        # append to list_cost\n",
    "        list_cost.append([cost,list_solution_2_main_warehouse])\n",
    "    list_cost_sort=sorted(list_cost)\n",
    "    optimal_solution=list_cost_sort[0]\n",
    "    print('cost optimal solution for problem is ' ,optimal_solution[0])\n",
    "    print('path optimal solution for problem is  ',' -> '.join(optimal_solution[1]))\n",
    "    return optimal_solution[1] # return for vizualization\n",
    "\n",
    "path_optimal_solution=main()"
   ]
  },
  {
   "cell_type": "code",
   "execution_count": null,
   "id": "140de70b",
   "metadata": {},
   "outputs": [],
   "source": []
  }
 ],
 "metadata": {
  "kernelspec": {
   "display_name": "Python 3",
   "language": "python",
   "name": "python3"
  },
  "language_info": {
   "codemirror_mode": {
    "name": "ipython",
    "version": 3
   },
   "file_extension": ".py",
   "mimetype": "text/x-python",
   "name": "python",
   "nbconvert_exporter": "python",
   "pygments_lexer": "ipython3",
   "version": "3.8.8"
  }
 },
 "nbformat": 4,
 "nbformat_minor": 5
}
